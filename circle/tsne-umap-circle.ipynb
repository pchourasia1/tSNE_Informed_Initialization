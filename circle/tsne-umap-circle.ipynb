{
 "cells": [
  {
   "cell_type": "markdown",
   "metadata": {},
   "source": [
    "# Embedding a 2D circle with t-SNE and UMAP and various initializations"
   ]
  },
  {
   "cell_type": "code",
   "execution_count": 18,
   "metadata": {},
   "outputs": [
    {
     "name": "stdout",
     "output_type": "stream",
     "text": [
      "openTSNE 0.6.2\n"
     ]
    }
   ],
   "source": [
    "import numpy as np\n",
    "import pylab as plt\n",
    "import seaborn as sns\n",
    "sns.set(context='paper', style='ticks', font='Arial')\n",
    "\n",
    "from openTSNE import TSNE\n",
    "# from umap import UMAP\n",
    "\n",
    "import openTSNE, umap\n",
    "print('openTSNE', openTSNE.__version__)\n",
    "# print('umap', umap.__version__)"
   ]
  },
  {
   "cell_type": "code",
   "execution_count": 19,
   "metadata": {},
   "outputs": [],
   "source": [
    "# Generate the data\n",
    "\n",
    "n = 7000\n",
    "np.random.seed(42)\n",
    "X = np.random.randn(n,3) / 1000\n",
    "X[:,0] += np.cos(np.arange(n)*2*np.pi/n)\n",
    "X[:,1] += np.sin(np.arange(n)*2*np.pi/n)"
   ]
  },
  {
   "cell_type": "code",
   "execution_count": 21,
   "metadata": {},
   "outputs": [],
   "source": [
    "np.save(\"C:/Users/pchourasia1/Desktop/tSne_extension/circle/tSne_circle_data.npy\",X)"
   ]
  },
  {
   "cell_type": "code",
   "execution_count": 22,
   "metadata": {},
   "outputs": [],
   "source": [
    "import pandas as pd \n",
    "pd.DataFrame(X).to_csv(\"C:/Users/pchourasia1/Desktop/tSne_extension/circle/tSne_circle_data.csv\")"
   ]
  },
  {
   "cell_type": "code",
   "execution_count": 13,
   "metadata": {},
   "outputs": [],
   "source": [
    "X_init = np.random.randn(n,2) / 1000"
   ]
  },
  {
   "cell_type": "code",
   "execution_count": 15,
   "metadata": {},
   "outputs": [],
   "source": [
    "\n",
    "# # BH is faster for this sample size\n",
    "# Z1 = TSNE(n_jobs=-1, initialization= X_init, random_state=42, negative_gradient_method='bh').fit(X)\n",
    "# # Z2 = TSNE(n_jobs=-1, negative_gradient_method='bh').fit(X)"
   ]
  },
  {
   "cell_type": "code",
   "execution_count": 12,
   "metadata": {},
   "outputs": [],
   "source": [
    "# # %%time\n",
    "\n",
    "# Z3 = UMAP(init='random', random_state=42).fit_transform(X)\n",
    "# Z4 = UMAP().fit_transform(X)"
   ]
  },
  {
   "cell_type": "code",
   "execution_count": 55,
   "metadata": {},
   "outputs": [],
   "source": [
    "from numpy import genfromtxt\n",
    "Z1 = genfromtxt('C:/Users/pchourasia1/Desktop/tSne_extension/tSNE_matrix_random/circle/Isolation/isolation_tsne_kmer_matlab_2d_2000_.csv', delimiter=',')\n",
    "Z2 = genfromtxt('C:/Users/pchourasia1/Desktop/tSne_extension/tSNE_matrix_pca/circle/Gaussian/gaussian_tsne_kmer_matlab_2d_2000_.csv', delimiter=',')\n",
    "Z3 = genfromtxt('C:/Users/pchourasia1/Desktop/tSne_extension/tSNE_matrix_ica/circle/Gaussian/gaussian_tsne_kmer_matlab_2d_2000_.csv', delimiter=',')\n",
    "Z4 = genfromtxt('C:/Users/pchourasia1/Desktop/tSne_extension/tSNE_matrix_ensemble/circle/Gaussian/gaussian_tsne_kmer_matlab_2d_2000_.csv', delimiter=',')"
   ]
  },
  {
   "cell_type": "code",
   "execution_count": 56,
   "metadata": {},
   "outputs": [
    {
     "data": {
      "image/png": "[encoded data removed]",
      "text/plain": [
       "<Figure size 432x288 with 1 Axes>"
      ]
     },
     "metadata": {},
     "output_type": "display_data"
    }
   ],
   "source": [
    "import matplotlib.pyplot as plt\n",
    " \n",
    " \n",
    "x =Z1[:,0]\n",
    " \n",
    "y =Z1[:,1]\n",
    " \n",
    "plt.scatter(x, y, c =\"blue\")\n",
    " \n",
    "# To show the plot\n",
    "plt.show()"
   ]
  },
  {
   "cell_type": "code",
   "execution_count": 34,
   "metadata": {},
   "outputs": [
    {
     "data": {
      "image/png": "[encoded data removed]",
      "text/plain": [
       "<Figure size 576x144 with 2 Axes>"
      ]
     },
     "metadata": {},
     "output_type": "display_data"
    }
   ],
   "source": [
    "from matplotlib.colors import ListedColormap\n",
    "cmap = ListedColormap(sns.husl_palette(n))\n",
    "\n",
    "titles = ['Data', 't-SNE, Random init', 't-SNE, PCA init', \n",
    "          't-SNE, ICA init', 't-SNE, Ensemble']\n",
    "\n",
    "plt.figure(figsize=(8,2))\n",
    "\n",
    "for i,Z in enumerate([X,Z1],1):\n",
    "    plt.subplot(1,5,i)\n",
    "    plt.gca().set_aspect('equal', adjustable='dat0alim')\n",
    "    plt.scatter(Z[:,0], Z[:,1], s=1, c=np.arange(n), cmap=cmap, \n",
    "                edgecolor='none', rasterized=True)\n",
    "    plt.xticks([])\n",
    "    plt.yticks([])\n",
    "    plt.title(titles[i-1], fontsize=8)\n",
    "    \n",
    "sns.despine(left=True, bottom=True)\n",
    "plt.tight_layout()\n",
    "\n",
    "plt.savefig('tsne-umap-circle.png', dpi=600)\n",
    "plt.savefig('tsne-umap-circle.pdf', dpi=600)"
   ]
  },
  {
   "cell_type": "code",
   "execution_count": null,
   "metadata": {},
   "outputs": [],
   "source": []
  }
 ],
 "metadata": {
  "kernelspec": {
   "display_name": "Python 3",
   "language": "python",
   "name": "python3"
  },
  "language_info": {
   "codemirror_mode": {
    "name": "ipython",
    "version": 3
   },
   "file_extension": ".py",
   "mimetype": "text/x-python",
   "name": "python",
   "nbconvert_exporter": "python",
   "pygments_lexer": "ipython3",
   "version": "3.8.8"
  }
 },
 "nbformat": 4,
 "nbformat_minor": 4
}
