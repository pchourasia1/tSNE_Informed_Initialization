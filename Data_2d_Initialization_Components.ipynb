{
 "cells": [
  {
   "cell_type": "code",
   "execution_count": 41,
   "id": "53c64d5d-5c85-4f20-934e-5951d1a21c24",
   "metadata": {},
   "outputs": [],
   "source": [
    "import numpy as np\n",
    "import pandas as pd\n",
    "from sklearn.manifold import TSNE\n",
    "from numpy import reshape\n",
    "# import seaborn as sns\n",
    "# import matplotlib.pyplot as plt\n",
    "from sklearn.neighbors import NearestNeighbors\n",
    "import time\n",
    "from numpy import genfromtxt\n",
    "\n",
    "def getneighbours(datapoints, k):\n",
    "    neigh = NearestNeighbors(n_neighbors=k)\n",
    "    neigh.fit(datapoints)\n",
    "    k_neigbours = neigh.kneighbors(return_distance=False)\n",
    "    return k_neigbours\n",
    "\n"
   ]
  },
  {
   "cell_type": "code",
   "execution_count": 7,
   "id": "212a532b-b49d-4a47-8acb-9ed2fb6484e9",
   "metadata": {},
   "outputs": [],
   "source": [
    "from numpy import genfromtxt\n",
    "data = genfromtxt('C:/Users/pchourasia1/Desktop/tSne_extension/genome_data/Spike2Vec_org_red_seq_8220.csv', delimiter=',')\n",
    "# data = genfromtxt('C:/Users/pchourasia1/Desktop/tSne_extension/host_data/Spike2Vec_on_unaligned_for_Host_Classification_Data_5558_seq.csv', delimiter=',')\n",
    "# data = genfromtxt('C:/Users/pchourasia1/Desktop/tSne_extension/shortRead_data/kmers_frequency_vector_0_10181.csv', delimiter=',')\n",
    "# data = genfromtxt('C:/Users/pchourasia1/Desktop/tSne_extension/circle/tSne_circle_data.csv', delimiter=',')"
   ]
  },
  {
   "cell_type": "code",
   "execution_count": 8,
   "id": "6009fcb1-c993-407b-8672-19491df75378",
   "metadata": {},
   "outputs": [],
   "source": [
    "# gaussian_kernel_scale = gaussian_kernel / 100"
   ]
  },
  {
   "cell_type": "code",
   "execution_count": 9,
   "id": "f7ffe33c-cdb8-428d-9030-8ea4065b45b8",
   "metadata": {},
   "outputs": [
    {
     "data": {
      "text/plain": [
       "(8220, 125)"
      ]
     },
     "execution_count": 9,
     "metadata": {},
     "output_type": "execute_result"
    }
   ],
   "source": [
    "# gaussian_kernel_scale[0:10]\n",
    "data.shape"
   ]
  },
  {
   "cell_type": "code",
   "execution_count": 45,
   "id": "c4dfe585-18f1-403f-82dd-7855c298d481",
   "metadata": {},
   "outputs": [
    {
     "data": {
      "text/plain": [
       "(7000, 2)"
      ]
     },
     "execution_count": 45,
     "metadata": {},
     "output_type": "execute_result"
    }
   ],
   "source": [
    "from sklearn.decomposition import FastICA\n",
    "transformer = FastICA(n_components=2, random_state=0, whiten='unit-variance')\n",
    "X_transformed = transformer.fit_transform(data)\n",
    "X_transformed.shape"
   ]
  },
  {
   "cell_type": "code",
   "execution_count": 46,
   "id": "1f602c1d-d883-410c-96dc-93404edbc96e",
   "metadata": {},
   "outputs": [],
   "source": [
    "DF = pd.DataFrame(X_transformed)\n",
    "DF.to_csv(\"C:/Users/pchourasia1/Desktop/tSne_Informed_Init/tSNE_matrix_2d_circle_data/ica_2d.csv\", header=False, index=False)"
   ]
  },
  {
   "cell_type": "markdown",
   "id": "9eae49fd-d406-4a5d-baa5-4b5bf075db78",
   "metadata": {},
   "source": [
    "## PCA"
   ]
  },
  {
   "cell_type": "code",
   "execution_count": 47,
   "id": "32cef78e-34ea-4a69-8a4b-4069010c2c5d",
   "metadata": {},
   "outputs": [],
   "source": [
    "from sklearn.decomposition import PCA\n",
    "pca = PCA(n_components=2)\n",
    "principalComponents = pca.fit_transform(data)\n",
    "principalDf = pd.DataFrame(data = principalComponents)"
   ]
  },
  {
   "cell_type": "code",
   "execution_count": 48,
   "id": "bf40bb1c-9556-4ca7-b7ac-d2b3e9583b8b",
   "metadata": {},
   "outputs": [
    {
     "data": {
      "text/plain": [
       "(7000, 2)"
      ]
     },
     "execution_count": 48,
     "metadata": {},
     "output_type": "execute_result"
    }
   ],
   "source": [
    "principalDf.shape"
   ]
  },
  {
   "cell_type": "code",
   "execution_count": 49,
   "id": "b3ade4ee-1ec1-4ec1-88c2-fa9079a7f5ab",
   "metadata": {},
   "outputs": [],
   "source": [
    "principalDf.to_csv(\"C:/Users/pchourasia1/Desktop/tSne_Informed_Init/tSNE_matrix_2d_circle_data/pca_2d.csv\", header=False, index=False)"
   ]
  },
  {
   "cell_type": "markdown",
   "id": "f6c3e6af-a389-45fc-8e56-0e1ef6bfacf3",
   "metadata": {},
   "source": [
    "## Ensemble"
   ]
  },
  {
   "cell_type": "code",
   "execution_count": 50,
   "id": "ccf474d9-8c3e-4e1d-b9f6-4b4962caf5fb",
   "metadata": {},
   "outputs": [
    {
     "data": {
      "text/plain": [
       "((7000, 2), (7000, 2))"
      ]
     },
     "execution_count": 50,
     "metadata": {},
     "output_type": "execute_result"
    }
   ],
   "source": [
    "principalDf.shape, DF.shape"
   ]
  },
  {
   "cell_type": "code",
   "execution_count": 51,
   "id": "60c89a83-497a-4f16-86f0-3e64ecd8307a",
   "metadata": {},
   "outputs": [
    {
     "data": {
      "text/html": [
       "<div>\n",
       "<style scoped>\n",
       "    .dataframe tbody tr th:only-of-type {\n",
       "        vertical-align: middle;\n",
       "    }\n",
       "\n",
       "    .dataframe tbody tr th {\n",
       "        vertical-align: top;\n",
       "    }\n",
       "\n",
       "    .dataframe thead th {\n",
       "        text-align: right;\n",
       "    }\n",
       "</style>\n",
       "<table border=\"1\" class=\"dataframe\">\n",
       "  <thead>\n",
       "    <tr style=\"text-align: right;\">\n",
       "      <th></th>\n",
       "      <th>0</th>\n",
       "      <th>1</th>\n",
       "    </tr>\n",
       "  </thead>\n",
       "  <tbody>\n",
       "    <tr>\n",
       "      <th>0</th>\n",
       "      <td>-0.458005</td>\n",
       "      <td>0.211771</td>\n",
       "    </tr>\n",
       "    <tr>\n",
       "      <th>1</th>\n",
       "      <td>-0.458297</td>\n",
       "      <td>0.212343</td>\n",
       "    </tr>\n",
       "    <tr>\n",
       "      <th>2</th>\n",
       "      <td>-0.457902</td>\n",
       "      <td>0.213198</td>\n",
       "    </tr>\n",
       "    <tr>\n",
       "      <th>3</th>\n",
       "      <td>-0.457500</td>\n",
       "      <td>0.212830</td>\n",
       "    </tr>\n",
       "    <tr>\n",
       "      <th>4</th>\n",
       "      <td>-0.457483</td>\n",
       "      <td>0.212521</td>\n",
       "    </tr>\n",
       "  </tbody>\n",
       "</table>\n",
       "</div>"
      ],
      "text/plain": [
       "          0         1\n",
       "0 -0.458005  0.211771\n",
       "1 -0.458297  0.212343\n",
       "2 -0.457902  0.213198\n",
       "3 -0.457500  0.212830\n",
       "4 -0.457483  0.212521"
      ]
     },
     "execution_count": 51,
     "metadata": {},
     "output_type": "execute_result"
    }
   ],
   "source": [
    "df_concat = pd.concat((DF, principalDf))\n",
    "by_row_index = df_concat.groupby(df_concat.index)\n",
    "df_means = by_row_index.mean()\n",
    "\n",
    "df_means.head()"
   ]
  },
  {
   "cell_type": "code",
   "execution_count": 52,
   "id": "09d660d1-e632-41e3-96a4-db2e1dee0ed6",
   "metadata": {},
   "outputs": [
    {
     "data": {
      "text/plain": [
       "(7000, 2)"
      ]
     },
     "execution_count": 52,
     "metadata": {},
     "output_type": "execute_result"
    }
   ],
   "source": [
    "df_means.shape"
   ]
  },
  {
   "cell_type": "code",
   "execution_count": 53,
   "id": "24e394ec-d1ee-40ac-bf15-37e08130d3ea",
   "metadata": {},
   "outputs": [],
   "source": [
    "df_means.to_csv(\"C:/Users/pchourasia1/Desktop/tSne_Informed_Init/tSNE_matrix_2d_circle_data/ensemble_2d.csv\", header=False, index=False)"
   ]
  },
  {
   "cell_type": "code",
   "execution_count": 54,
   "id": "5b058172-35c8-4a9b-8549-138b817fa234",
   "metadata": {},
   "outputs": [],
   "source": [
    "\n",
    "attribute_data = np.load(\"C:/Users/pchourasia1/Desktop/tSne_extension/host_data/attributes.npy\",allow_pickle=True)"
   ]
  },
  {
   "cell_type": "code",
   "execution_count": 57,
   "id": "8b00dab0-b68d-40a9-b8ea-b68516a43dbc",
   "metadata": {},
   "outputs": [
    {
     "data": {
      "text/plain": [
       "'environment'"
      ]
     },
     "execution_count": 57,
     "metadata": {},
     "output_type": "execute_result"
    }
   ],
   "source": [
    "attribute_data[0]"
   ]
  },
  {
   "cell_type": "code",
   "execution_count": 58,
   "id": "cde1c072-b735-47d0-a9c6-56cf3d4b3712",
   "metadata": {},
   "outputs": [
    {
     "name": "stdout",
     "output_type": "stream",
     "text": [
      "Attribute data preprocessing Done\n"
     ]
    }
   ],
   "source": [
    "# In[ ]:\n",
    "\n",
    "\n",
    "# idx = pd.Index(variant_orig) # creates an index which allows counting the entries easily\n",
    "# print('Total:' ,len(idx),\"entries in total\")\n",
    "# aq = (idx.value_counts())\n",
    "# print(aq[0:10])\n",
    "\n",
    "\n",
    "# In[4]:\n",
    "\n",
    "\n",
    "unique_varaints = list(np.unique(attribute_data))\n",
    "\n",
    "int_variants = []\n",
    "for ind_unique in range(len(attribute_data)):\n",
    "    variant_tmp = attribute_data[ind_unique]\n",
    "    ind_tmp = unique_varaints.index(variant_tmp)\n",
    "    int_variants.append(ind_tmp)\n",
    "    \n",
    "print(\"Attribute data preprocessing Done\")"
   ]
  },
  {
   "cell_type": "code",
   "execution_count": 59,
   "id": "1dabe3d9-ac29-4ae5-a08d-87d8ed0d94b9",
   "metadata": {},
   "outputs": [
    {
     "data": {
      "text/plain": [
       "(5558, 8)"
      ]
     },
     "execution_count": 59,
     "metadata": {},
     "output_type": "execute_result"
    }
   ],
   "source": [
    "len(int_variants), int_variants[0]"
   ]
  },
  {
   "cell_type": "code",
   "execution_count": 60,
   "id": "58c51a68-49ff-4ab1-8318-28ddbe25b3a9",
   "metadata": {},
   "outputs": [],
   "source": [
    "df_attr = pd.DataFrame(data = int_variants)\n",
    "df_attr.to_csv(\"C:/Users/pchourasia1/Desktop/tSne_extension/host_data/attributes_processed.csv\", header=False, index=False)"
   ]
  },
  {
   "cell_type": "code",
   "execution_count": 61,
   "id": "81277935-aabf-4477-aba9-aca545aa6761",
   "metadata": {},
   "outputs": [],
   "source": [
    "seq_data = np.load(\"C:/Users/pchourasia1/Desktop/tSne_extension/host_data/Spike2Vec_on_unaligned_for_Host_Classification_Data_5558_seq.npy\",allow_pickle=True)"
   ]
  },
  {
   "cell_type": "code",
   "execution_count": null,
   "id": "ac6ac4fa-3c81-46c0-a496-27bb7190f412",
   "metadata": {},
   "outputs": [],
   "source": []
  }
 ],
 "metadata": {
  "kernelspec": {
   "display_name": "Python 3",
   "language": "python",
   "name": "python3"
  },
  "language_info": {
   "codemirror_mode": {
    "name": "ipython",
    "version": 3
   },
   "file_extension": ".py",
   "mimetype": "text/x-python",
   "name": "python",
   "nbconvert_exporter": "python",
   "pygments_lexer": "ipython3",
   "version": "3.8.8"
  }
 },
 "nbformat": 4,
 "nbformat_minor": 5
}
